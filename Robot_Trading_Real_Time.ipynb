{
  "nbformat": 4,
  "nbformat_minor": 0,
  "metadata": {
    "colab": {
      "provenance": []
    },
    "kernelspec": {
      "name": "python3",
      "display_name": "Python 3"
    },
    "language_info": {
      "name": "python"
    }
  },
  "cells": [
    {
      "cell_type": "markdown",
      "source": [
        "# 1. Configuración del Ambiente"
      ],
      "metadata": {
        "id": "BHu145zPBDOw"
      }
    },
    {
      "cell_type": "code",
      "source": [
        "#@title\n",
        "#Definimos las variables globales que se usarán en el notebook\n",
        "global df_bitcoin, df_bitcoin_limpio, precio_actual, tendencia, media_bitcoin, algoritmo_decision\n",
        "#Importamos las librerias necesarias para el proyecto\n",
        "import pandas as pd\n",
        "import numpy as np\n",
        "%matplotlib inline\n",
        "import matplotlib.pyplot as plt\n",
        "import yfinance as yf\n",
        "from bs4 import BeautifulSoup\n",
        "import requests\n",
        "import time\n",
        "import datetime\n",
        "from IPython.display import clear_output"
      ],
      "metadata": {
        "id": "h9uujtQCCIxQ",
        "cellView": "form"
      },
      "execution_count": 1,
      "outputs": []
    },
    {
      "cell_type": "code",
      "source": [
        "#Verificamos que se tengan las versiones correctas de cada librería\n",
        "!python -V\n",
        "print('------')\n",
        "!pip show Pandas | grep 'Name\\|Version'\n",
        "print('------')\n",
        "!pip show Numpy | grep 'Name\\|Version'\n",
        "print('------')\n",
        "!pip show Matplotlib | grep 'Name\\|Version'"
      ],
      "metadata": {
        "colab": {
          "base_uri": "https://localhost:8080/"
        },
        "id": "hZkc4OeMCInn",
        "outputId": "4287ce6e-a7ea-4fb3-ad51-1937c02c6420"
      },
      "execution_count": 2,
      "outputs": [
        {
          "output_type": "stream",
          "name": "stdout",
          "text": [
            "Python 3.10.12\n",
            "------\n",
            "Name: pandas\n",
            "Version: 1.5.3\n",
            "------\n",
            "Name: numpy\n",
            "Version: 1.23.5\n",
            "------\n",
            "Name: matplotlib\n",
            "Version: 3.7.1\n"
          ]
        }
      ]
    },
    {
      "cell_type": "markdown",
      "source": [
        "# 2. Obtención de datos"
      ],
      "metadata": {
        "id": "f8Excr7YBcU-"
      }
    },
    {
      "cell_type": "markdown",
      "source": [
        "##2.1 Precios Históricos del Bitcoin"
      ],
      "metadata": {
        "id": "e3wBivkvKkDy"
      }
    },
    {
      "cell_type": "code",
      "source": [
        "#@title\n",
        "def importar_base_bitcoin():\n",
        "  global df_bitcoin\n",
        "  df_bitcoin = yf.download(\"BTC-USD\", period=\"7d\", interval=\"5m\")"
      ],
      "metadata": {
        "id": "vr7ZWtmjDCPd",
        "cellView": "form"
      },
      "execution_count": 3,
      "outputs": []
    },
    {
      "cell_type": "code",
      "source": [
        "#Muestra de la base histórica de precios del Bitcoin\n",
        "importar_base_bitcoin()\n",
        "df_bitcoin.head()"
      ],
      "metadata": {
        "colab": {
          "base_uri": "https://localhost:8080/",
          "height": 255
        },
        "id": "YcHTraMiW_Qa",
        "outputId": "20e55b87-ce9f-438a-df06-4b64e6ea503d"
      },
      "execution_count": 4,
      "outputs": [
        {
          "output_type": "stream",
          "name": "stdout",
          "text": [
            "\r[*********************100%%**********************]  1 of 1 completed\n"
          ]
        },
        {
          "output_type": "execute_result",
          "data": {
            "text/plain": [
              "                                   Open          High           Low  \\\n",
              "Datetime                                                              \n",
              "2023-10-17 00:00:00+00:00  28522.097656  28540.667969  28514.380859   \n",
              "2023-10-17 00:05:00+00:00  28546.552734  28559.431641  28512.556641   \n",
              "2023-10-17 00:10:00+00:00  28512.556641  28512.556641  28499.109375   \n",
              "2023-10-17 00:15:00+00:00  28484.177734  28484.177734  28463.269531   \n",
              "2023-10-17 00:20:00+00:00  28465.617188  28472.287109  28465.617188   \n",
              "\n",
              "                                  Close     Adj Close    Volume  \n",
              "Datetime                                                         \n",
              "2023-10-17 00:00:00+00:00  28540.667969  28540.667969         0  \n",
              "2023-10-17 00:05:00+00:00  28512.556641  28512.556641  24692736  \n",
              "2023-10-17 00:10:00+00:00  28499.109375  28499.109375  20992000  \n",
              "2023-10-17 00:15:00+00:00  28463.269531  28463.269531         0  \n",
              "2023-10-17 00:20:00+00:00  28472.287109  28472.287109  14622720  "
            ],
            "text/html": [
              "\n",
              "  <div id=\"df-d61465d4-294a-4d4b-a50f-035833d0e2d5\" class=\"colab-df-container\">\n",
              "    <div>\n",
              "<style scoped>\n",
              "    .dataframe tbody tr th:only-of-type {\n",
              "        vertical-align: middle;\n",
              "    }\n",
              "\n",
              "    .dataframe tbody tr th {\n",
              "        vertical-align: top;\n",
              "    }\n",
              "\n",
              "    .dataframe thead th {\n",
              "        text-align: right;\n",
              "    }\n",
              "</style>\n",
              "<table border=\"1\" class=\"dataframe\">\n",
              "  <thead>\n",
              "    <tr style=\"text-align: right;\">\n",
              "      <th></th>\n",
              "      <th>Open</th>\n",
              "      <th>High</th>\n",
              "      <th>Low</th>\n",
              "      <th>Close</th>\n",
              "      <th>Adj Close</th>\n",
              "      <th>Volume</th>\n",
              "    </tr>\n",
              "    <tr>\n",
              "      <th>Datetime</th>\n",
              "      <th></th>\n",
              "      <th></th>\n",
              "      <th></th>\n",
              "      <th></th>\n",
              "      <th></th>\n",
              "      <th></th>\n",
              "    </tr>\n",
              "  </thead>\n",
              "  <tbody>\n",
              "    <tr>\n",
              "      <th>2023-10-17 00:00:00+00:00</th>\n",
              "      <td>28522.097656</td>\n",
              "      <td>28540.667969</td>\n",
              "      <td>28514.380859</td>\n",
              "      <td>28540.667969</td>\n",
              "      <td>28540.667969</td>\n",
              "      <td>0</td>\n",
              "    </tr>\n",
              "    <tr>\n",
              "      <th>2023-10-17 00:05:00+00:00</th>\n",
              "      <td>28546.552734</td>\n",
              "      <td>28559.431641</td>\n",
              "      <td>28512.556641</td>\n",
              "      <td>28512.556641</td>\n",
              "      <td>28512.556641</td>\n",
              "      <td>24692736</td>\n",
              "    </tr>\n",
              "    <tr>\n",
              "      <th>2023-10-17 00:10:00+00:00</th>\n",
              "      <td>28512.556641</td>\n",
              "      <td>28512.556641</td>\n",
              "      <td>28499.109375</td>\n",
              "      <td>28499.109375</td>\n",
              "      <td>28499.109375</td>\n",
              "      <td>20992000</td>\n",
              "    </tr>\n",
              "    <tr>\n",
              "      <th>2023-10-17 00:15:00+00:00</th>\n",
              "      <td>28484.177734</td>\n",
              "      <td>28484.177734</td>\n",
              "      <td>28463.269531</td>\n",
              "      <td>28463.269531</td>\n",
              "      <td>28463.269531</td>\n",
              "      <td>0</td>\n",
              "    </tr>\n",
              "    <tr>\n",
              "      <th>2023-10-17 00:20:00+00:00</th>\n",
              "      <td>28465.617188</td>\n",
              "      <td>28472.287109</td>\n",
              "      <td>28465.617188</td>\n",
              "      <td>28472.287109</td>\n",
              "      <td>28472.287109</td>\n",
              "      <td>14622720</td>\n",
              "    </tr>\n",
              "  </tbody>\n",
              "</table>\n",
              "</div>\n",
              "    <div class=\"colab-df-buttons\">\n",
              "\n",
              "  <div class=\"colab-df-container\">\n",
              "    <button class=\"colab-df-convert\" onclick=\"convertToInteractive('df-d61465d4-294a-4d4b-a50f-035833d0e2d5')\"\n",
              "            title=\"Convert this dataframe to an interactive table.\"\n",
              "            style=\"display:none;\">\n",
              "\n",
              "  <svg xmlns=\"http://www.w3.org/2000/svg\" height=\"24px\" viewBox=\"0 -960 960 960\">\n",
              "    <path d=\"M120-120v-720h720v720H120Zm60-500h600v-160H180v160Zm220 220h160v-160H400v160Zm0 220h160v-160H400v160ZM180-400h160v-160H180v160Zm440 0h160v-160H620v160ZM180-180h160v-160H180v160Zm440 0h160v-160H620v160Z\"/>\n",
              "  </svg>\n",
              "    </button>\n",
              "\n",
              "  <style>\n",
              "    .colab-df-container {\n",
              "      display:flex;\n",
              "      gap: 12px;\n",
              "    }\n",
              "\n",
              "    .colab-df-convert {\n",
              "      background-color: #E8F0FE;\n",
              "      border: none;\n",
              "      border-radius: 50%;\n",
              "      cursor: pointer;\n",
              "      display: none;\n",
              "      fill: #1967D2;\n",
              "      height: 32px;\n",
              "      padding: 0 0 0 0;\n",
              "      width: 32px;\n",
              "    }\n",
              "\n",
              "    .colab-df-convert:hover {\n",
              "      background-color: #E2EBFA;\n",
              "      box-shadow: 0px 1px 2px rgba(60, 64, 67, 0.3), 0px 1px 3px 1px rgba(60, 64, 67, 0.15);\n",
              "      fill: #174EA6;\n",
              "    }\n",
              "\n",
              "    .colab-df-buttons div {\n",
              "      margin-bottom: 4px;\n",
              "    }\n",
              "\n",
              "    [theme=dark] .colab-df-convert {\n",
              "      background-color: #3B4455;\n",
              "      fill: #D2E3FC;\n",
              "    }\n",
              "\n",
              "    [theme=dark] .colab-df-convert:hover {\n",
              "      background-color: #434B5C;\n",
              "      box-shadow: 0px 1px 3px 1px rgba(0, 0, 0, 0.15);\n",
              "      filter: drop-shadow(0px 1px 2px rgba(0, 0, 0, 0.3));\n",
              "      fill: #FFFFFF;\n",
              "    }\n",
              "  </style>\n",
              "\n",
              "    <script>\n",
              "      const buttonEl =\n",
              "        document.querySelector('#df-d61465d4-294a-4d4b-a50f-035833d0e2d5 button.colab-df-convert');\n",
              "      buttonEl.style.display =\n",
              "        google.colab.kernel.accessAllowed ? 'block' : 'none';\n",
              "\n",
              "      async function convertToInteractive(key) {\n",
              "        const element = document.querySelector('#df-d61465d4-294a-4d4b-a50f-035833d0e2d5');\n",
              "        const dataTable =\n",
              "          await google.colab.kernel.invokeFunction('convertToInteractive',\n",
              "                                                    [key], {});\n",
              "        if (!dataTable) return;\n",
              "\n",
              "        const docLinkHtml = 'Like what you see? Visit the ' +\n",
              "          '<a target=\"_blank\" href=https://colab.research.google.com/notebooks/data_table.ipynb>data table notebook</a>'\n",
              "          + ' to learn more about interactive tables.';\n",
              "        element.innerHTML = '';\n",
              "        dataTable['output_type'] = 'display_data';\n",
              "        await google.colab.output.renderOutput(dataTable, element);\n",
              "        const docLink = document.createElement('div');\n",
              "        docLink.innerHTML = docLinkHtml;\n",
              "        element.appendChild(docLink);\n",
              "      }\n",
              "    </script>\n",
              "  </div>\n",
              "\n",
              "\n",
              "<div id=\"df-3a27f1fc-1b61-4b88-b849-51f3b9614e34\">\n",
              "  <button class=\"colab-df-quickchart\" onclick=\"quickchart('df-3a27f1fc-1b61-4b88-b849-51f3b9614e34')\"\n",
              "            title=\"Suggest charts.\"\n",
              "            style=\"display:none;\">\n",
              "\n",
              "<svg xmlns=\"http://www.w3.org/2000/svg\" height=\"24px\"viewBox=\"0 0 24 24\"\n",
              "     width=\"24px\">\n",
              "    <g>\n",
              "        <path d=\"M19 3H5c-1.1 0-2 .9-2 2v14c0 1.1.9 2 2 2h14c1.1 0 2-.9 2-2V5c0-1.1-.9-2-2-2zM9 17H7v-7h2v7zm4 0h-2V7h2v10zm4 0h-2v-4h2v4z\"/>\n",
              "    </g>\n",
              "</svg>\n",
              "  </button>\n",
              "\n",
              "<style>\n",
              "  .colab-df-quickchart {\n",
              "      --bg-color: #E8F0FE;\n",
              "      --fill-color: #1967D2;\n",
              "      --hover-bg-color: #E2EBFA;\n",
              "      --hover-fill-color: #174EA6;\n",
              "      --disabled-fill-color: #AAA;\n",
              "      --disabled-bg-color: #DDD;\n",
              "  }\n",
              "\n",
              "  [theme=dark] .colab-df-quickchart {\n",
              "      --bg-color: #3B4455;\n",
              "      --fill-color: #D2E3FC;\n",
              "      --hover-bg-color: #434B5C;\n",
              "      --hover-fill-color: #FFFFFF;\n",
              "      --disabled-bg-color: #3B4455;\n",
              "      --disabled-fill-color: #666;\n",
              "  }\n",
              "\n",
              "  .colab-df-quickchart {\n",
              "    background-color: var(--bg-color);\n",
              "    border: none;\n",
              "    border-radius: 50%;\n",
              "    cursor: pointer;\n",
              "    display: none;\n",
              "    fill: var(--fill-color);\n",
              "    height: 32px;\n",
              "    padding: 0;\n",
              "    width: 32px;\n",
              "  }\n",
              "\n",
              "  .colab-df-quickchart:hover {\n",
              "    background-color: var(--hover-bg-color);\n",
              "    box-shadow: 0 1px 2px rgba(60, 64, 67, 0.3), 0 1px 3px 1px rgba(60, 64, 67, 0.15);\n",
              "    fill: var(--button-hover-fill-color);\n",
              "  }\n",
              "\n",
              "  .colab-df-quickchart-complete:disabled,\n",
              "  .colab-df-quickchart-complete:disabled:hover {\n",
              "    background-color: var(--disabled-bg-color);\n",
              "    fill: var(--disabled-fill-color);\n",
              "    box-shadow: none;\n",
              "  }\n",
              "\n",
              "  .colab-df-spinner {\n",
              "    border: 2px solid var(--fill-color);\n",
              "    border-color: transparent;\n",
              "    border-bottom-color: var(--fill-color);\n",
              "    animation:\n",
              "      spin 1s steps(1) infinite;\n",
              "  }\n",
              "\n",
              "  @keyframes spin {\n",
              "    0% {\n",
              "      border-color: transparent;\n",
              "      border-bottom-color: var(--fill-color);\n",
              "      border-left-color: var(--fill-color);\n",
              "    }\n",
              "    20% {\n",
              "      border-color: transparent;\n",
              "      border-left-color: var(--fill-color);\n",
              "      border-top-color: var(--fill-color);\n",
              "    }\n",
              "    30% {\n",
              "      border-color: transparent;\n",
              "      border-left-color: var(--fill-color);\n",
              "      border-top-color: var(--fill-color);\n",
              "      border-right-color: var(--fill-color);\n",
              "    }\n",
              "    40% {\n",
              "      border-color: transparent;\n",
              "      border-right-color: var(--fill-color);\n",
              "      border-top-color: var(--fill-color);\n",
              "    }\n",
              "    60% {\n",
              "      border-color: transparent;\n",
              "      border-right-color: var(--fill-color);\n",
              "    }\n",
              "    80% {\n",
              "      border-color: transparent;\n",
              "      border-right-color: var(--fill-color);\n",
              "      border-bottom-color: var(--fill-color);\n",
              "    }\n",
              "    90% {\n",
              "      border-color: transparent;\n",
              "      border-bottom-color: var(--fill-color);\n",
              "    }\n",
              "  }\n",
              "</style>\n",
              "\n",
              "  <script>\n",
              "    async function quickchart(key) {\n",
              "      const quickchartButtonEl =\n",
              "        document.querySelector('#' + key + ' button');\n",
              "      quickchartButtonEl.disabled = true;  // To prevent multiple clicks.\n",
              "      quickchartButtonEl.classList.add('colab-df-spinner');\n",
              "      try {\n",
              "        const charts = await google.colab.kernel.invokeFunction(\n",
              "            'suggestCharts', [key], {});\n",
              "      } catch (error) {\n",
              "        console.error('Error during call to suggestCharts:', error);\n",
              "      }\n",
              "      quickchartButtonEl.classList.remove('colab-df-spinner');\n",
              "      quickchartButtonEl.classList.add('colab-df-quickchart-complete');\n",
              "    }\n",
              "    (() => {\n",
              "      let quickchartButtonEl =\n",
              "        document.querySelector('#df-3a27f1fc-1b61-4b88-b849-51f3b9614e34 button');\n",
              "      quickchartButtonEl.style.display =\n",
              "        google.colab.kernel.accessAllowed ? 'block' : 'none';\n",
              "    })();\n",
              "  </script>\n",
              "</div>\n",
              "    </div>\n",
              "  </div>\n"
            ]
          },
          "metadata": {},
          "execution_count": 4
        }
      ]
    },
    {
      "cell_type": "markdown",
      "source": [
        "##2.2 Indicadores de Tendencias"
      ],
      "metadata": {
        "id": "4JtRNhZfDB_I"
      }
    },
    {
      "cell_type": "code",
      "source": [
        "#@title\n",
        "def extraer_tendencias():\n",
        "  global precio_actual, tendencia\n",
        "  headers = {'User-Agent':'Mozilla/5.0 (Macintosh; Intel Mac OS X 10_15_7) AppleWebKit/537.36 (KHTML, like Gecko) Chrome/117.0.0.0 Safari/537.36'}\n",
        "  url = \"https://coinmarketcap.com/\"\n",
        "  respuesta = requests.get(url, headers=headers)\n",
        "  s = BeautifulSoup(respuesta.content, \"lxml\")\n",
        "  respuesta = s.findAll('p', {'class':'sc-4984dd93-0 iqdbQL coin-item-symbol'})\n",
        "\n",
        "  indice=0\n",
        "  for item in respuesta:\n",
        "    if item.getText()=='BTC':\n",
        "      break\n",
        "    indice+=1\n",
        "\n",
        "  respuesta = s.findAll('div', {'class':['sc-a0353bbc-0 gDrtaY', 'sc-a0353bbc-0 gDrtaY fall', 'sc-a0353bbc-0 gDrtaY rise']})\n",
        "  precio_actual = float(respuesta[indice].getText().replace('$','').replace(',',''))\n",
        "\n",
        "  lista = []\n",
        "  respuesta = s.findAll('span', {'class':['sc-d55c02b-0 iwBxy', 'sc-d55c02b-0 gUnzUB']})\n",
        "  for item in respuesta[::3]:\n",
        "    lista.append(item)\n",
        "\n",
        "  tendencia = ''\n",
        "  if lista[indice].find('span')['class'][0] == 'icon-Caret-down':\n",
        "    tendencia = 'baja'\n",
        "  else:\n",
        "    tendencia = 'alta'"
      ],
      "metadata": {
        "id": "hhFztr1WDBt-",
        "cellView": "form"
      },
      "execution_count": 5,
      "outputs": []
    },
    {
      "cell_type": "code",
      "source": [
        "#Muestra del Precio Actual del Bitcoin y su tendencia\n",
        "extraer_tendencias()\n",
        "print('Bitcoin Price: ', precio_actual)\n",
        "print('Tendencia: ', tendencia)"
      ],
      "metadata": {
        "colab": {
          "base_uri": "https://localhost:8080/"
        },
        "id": "Iw3ShyUfXh75",
        "outputId": "b96c1771-bad6-4fca-c509-2c0d7fb4c607"
      },
      "execution_count": 6,
      "outputs": [
        {
          "output_type": "stream",
          "name": "stdout",
          "text": [
            "Bitcoin Price:  30351.66\n",
            "Tendencia:  baja\n"
          ]
        }
      ]
    },
    {
      "cell_type": "markdown",
      "source": [
        "#3. Limpieza de datos"
      ],
      "metadata": {
        "id": "jDe2tnz9Bxu1"
      }
    },
    {
      "cell_type": "code",
      "source": [
        "#Muestra informaciones de la base original, sin tratamiento\n",
        "print(df_bitcoin.info())\n",
        "df_bitcoin.describe().round(0)"
      ],
      "metadata": {
        "colab": {
          "base_uri": "https://localhost:8080/",
          "height": 555
        },
        "id": "qlDFOhbBDDSR",
        "outputId": "d4d229ae-8ace-4b86-ed28-4dc9d9a127bd"
      },
      "execution_count": 7,
      "outputs": [
        {
          "output_type": "stream",
          "name": "stdout",
          "text": [
            "<class 'pandas.core.frame.DataFrame'>\n",
            "DatetimeIndex: 1742 entries, 2023-10-17 00:00:00+00:00 to 2023-10-23 02:40:00+00:00\n",
            "Data columns (total 6 columns):\n",
            " #   Column     Non-Null Count  Dtype  \n",
            "---  ------     --------------  -----  \n",
            " 0   Open       1742 non-null   float64\n",
            " 1   High       1742 non-null   float64\n",
            " 2   Low        1742 non-null   float64\n",
            " 3   Close      1742 non-null   float64\n",
            " 4   Adj Close  1742 non-null   float64\n",
            " 5   Volume     1742 non-null   int64  \n",
            "dtypes: float64(5), int64(1)\n",
            "memory usage: 95.3 KB\n",
            "None\n"
          ]
        },
        {
          "output_type": "execute_result",
          "data": {
            "text/plain": [
              "          Open     High      Low    Close  Adj Close       Volume\n",
              "count   1742.0   1742.0   1742.0   1742.0     1742.0       1742.0\n",
              "mean   29090.0  29102.0  29079.0  29091.0    29091.0   18931901.0\n",
              "std      696.0    697.0    695.0    696.0      696.0   50011251.0\n",
              "min    28126.0  28156.0  28110.0  28130.0    28130.0          0.0\n",
              "25%    28413.0  28422.0  28403.0  28413.0    28413.0          0.0\n",
              "50%    28755.0  28773.0  28740.0  28757.0    28757.0          0.0\n",
              "75%    29824.0  29837.0  29811.0  29822.0    29822.0   16042752.0\n",
              "max    30421.0  30521.0  30399.0  30399.0    30399.0  623319040.0"
            ],
            "text/html": [
              "\n",
              "  <div id=\"df-7cdd74da-0fb5-47cb-b9a5-4e17fe40c3ec\" class=\"colab-df-container\">\n",
              "    <div>\n",
              "<style scoped>\n",
              "    .dataframe tbody tr th:only-of-type {\n",
              "        vertical-align: middle;\n",
              "    }\n",
              "\n",
              "    .dataframe tbody tr th {\n",
              "        vertical-align: top;\n",
              "    }\n",
              "\n",
              "    .dataframe thead th {\n",
              "        text-align: right;\n",
              "    }\n",
              "</style>\n",
              "<table border=\"1\" class=\"dataframe\">\n",
              "  <thead>\n",
              "    <tr style=\"text-align: right;\">\n",
              "      <th></th>\n",
              "      <th>Open</th>\n",
              "      <th>High</th>\n",
              "      <th>Low</th>\n",
              "      <th>Close</th>\n",
              "      <th>Adj Close</th>\n",
              "      <th>Volume</th>\n",
              "    </tr>\n",
              "  </thead>\n",
              "  <tbody>\n",
              "    <tr>\n",
              "      <th>count</th>\n",
              "      <td>1742.0</td>\n",
              "      <td>1742.0</td>\n",
              "      <td>1742.0</td>\n",
              "      <td>1742.0</td>\n",
              "      <td>1742.0</td>\n",
              "      <td>1742.0</td>\n",
              "    </tr>\n",
              "    <tr>\n",
              "      <th>mean</th>\n",
              "      <td>29090.0</td>\n",
              "      <td>29102.0</td>\n",
              "      <td>29079.0</td>\n",
              "      <td>29091.0</td>\n",
              "      <td>29091.0</td>\n",
              "      <td>18931901.0</td>\n",
              "    </tr>\n",
              "    <tr>\n",
              "      <th>std</th>\n",
              "      <td>696.0</td>\n",
              "      <td>697.0</td>\n",
              "      <td>695.0</td>\n",
              "      <td>696.0</td>\n",
              "      <td>696.0</td>\n",
              "      <td>50011251.0</td>\n",
              "    </tr>\n",
              "    <tr>\n",
              "      <th>min</th>\n",
              "      <td>28126.0</td>\n",
              "      <td>28156.0</td>\n",
              "      <td>28110.0</td>\n",
              "      <td>28130.0</td>\n",
              "      <td>28130.0</td>\n",
              "      <td>0.0</td>\n",
              "    </tr>\n",
              "    <tr>\n",
              "      <th>25%</th>\n",
              "      <td>28413.0</td>\n",
              "      <td>28422.0</td>\n",
              "      <td>28403.0</td>\n",
              "      <td>28413.0</td>\n",
              "      <td>28413.0</td>\n",
              "      <td>0.0</td>\n",
              "    </tr>\n",
              "    <tr>\n",
              "      <th>50%</th>\n",
              "      <td>28755.0</td>\n",
              "      <td>28773.0</td>\n",
              "      <td>28740.0</td>\n",
              "      <td>28757.0</td>\n",
              "      <td>28757.0</td>\n",
              "      <td>0.0</td>\n",
              "    </tr>\n",
              "    <tr>\n",
              "      <th>75%</th>\n",
              "      <td>29824.0</td>\n",
              "      <td>29837.0</td>\n",
              "      <td>29811.0</td>\n",
              "      <td>29822.0</td>\n",
              "      <td>29822.0</td>\n",
              "      <td>16042752.0</td>\n",
              "    </tr>\n",
              "    <tr>\n",
              "      <th>max</th>\n",
              "      <td>30421.0</td>\n",
              "      <td>30521.0</td>\n",
              "      <td>30399.0</td>\n",
              "      <td>30399.0</td>\n",
              "      <td>30399.0</td>\n",
              "      <td>623319040.0</td>\n",
              "    </tr>\n",
              "  </tbody>\n",
              "</table>\n",
              "</div>\n",
              "    <div class=\"colab-df-buttons\">\n",
              "\n",
              "  <div class=\"colab-df-container\">\n",
              "    <button class=\"colab-df-convert\" onclick=\"convertToInteractive('df-7cdd74da-0fb5-47cb-b9a5-4e17fe40c3ec')\"\n",
              "            title=\"Convert this dataframe to an interactive table.\"\n",
              "            style=\"display:none;\">\n",
              "\n",
              "  <svg xmlns=\"http://www.w3.org/2000/svg\" height=\"24px\" viewBox=\"0 -960 960 960\">\n",
              "    <path d=\"M120-120v-720h720v720H120Zm60-500h600v-160H180v160Zm220 220h160v-160H400v160Zm0 220h160v-160H400v160ZM180-400h160v-160H180v160Zm440 0h160v-160H620v160ZM180-180h160v-160H180v160Zm440 0h160v-160H620v160Z\"/>\n",
              "  </svg>\n",
              "    </button>\n",
              "\n",
              "  <style>\n",
              "    .colab-df-container {\n",
              "      display:flex;\n",
              "      gap: 12px;\n",
              "    }\n",
              "\n",
              "    .colab-df-convert {\n",
              "      background-color: #E8F0FE;\n",
              "      border: none;\n",
              "      border-radius: 50%;\n",
              "      cursor: pointer;\n",
              "      display: none;\n",
              "      fill: #1967D2;\n",
              "      height: 32px;\n",
              "      padding: 0 0 0 0;\n",
              "      width: 32px;\n",
              "    }\n",
              "\n",
              "    .colab-df-convert:hover {\n",
              "      background-color: #E2EBFA;\n",
              "      box-shadow: 0px 1px 2px rgba(60, 64, 67, 0.3), 0px 1px 3px 1px rgba(60, 64, 67, 0.15);\n",
              "      fill: #174EA6;\n",
              "    }\n",
              "\n",
              "    .colab-df-buttons div {\n",
              "      margin-bottom: 4px;\n",
              "    }\n",
              "\n",
              "    [theme=dark] .colab-df-convert {\n",
              "      background-color: #3B4455;\n",
              "      fill: #D2E3FC;\n",
              "    }\n",
              "\n",
              "    [theme=dark] .colab-df-convert:hover {\n",
              "      background-color: #434B5C;\n",
              "      box-shadow: 0px 1px 3px 1px rgba(0, 0, 0, 0.15);\n",
              "      filter: drop-shadow(0px 1px 2px rgba(0, 0, 0, 0.3));\n",
              "      fill: #FFFFFF;\n",
              "    }\n",
              "  </style>\n",
              "\n",
              "    <script>\n",
              "      const buttonEl =\n",
              "        document.querySelector('#df-7cdd74da-0fb5-47cb-b9a5-4e17fe40c3ec button.colab-df-convert');\n",
              "      buttonEl.style.display =\n",
              "        google.colab.kernel.accessAllowed ? 'block' : 'none';\n",
              "\n",
              "      async function convertToInteractive(key) {\n",
              "        const element = document.querySelector('#df-7cdd74da-0fb5-47cb-b9a5-4e17fe40c3ec');\n",
              "        const dataTable =\n",
              "          await google.colab.kernel.invokeFunction('convertToInteractive',\n",
              "                                                    [key], {});\n",
              "        if (!dataTable) return;\n",
              "\n",
              "        const docLinkHtml = 'Like what you see? Visit the ' +\n",
              "          '<a target=\"_blank\" href=https://colab.research.google.com/notebooks/data_table.ipynb>data table notebook</a>'\n",
              "          + ' to learn more about interactive tables.';\n",
              "        element.innerHTML = '';\n",
              "        dataTable['output_type'] = 'display_data';\n",
              "        await google.colab.output.renderOutput(dataTable, element);\n",
              "        const docLink = document.createElement('div');\n",
              "        docLink.innerHTML = docLinkHtml;\n",
              "        element.appendChild(docLink);\n",
              "      }\n",
              "    </script>\n",
              "  </div>\n",
              "\n",
              "\n",
              "<div id=\"df-120a9fee-ac6e-434e-a0ac-152e58e83a25\">\n",
              "  <button class=\"colab-df-quickchart\" onclick=\"quickchart('df-120a9fee-ac6e-434e-a0ac-152e58e83a25')\"\n",
              "            title=\"Suggest charts.\"\n",
              "            style=\"display:none;\">\n",
              "\n",
              "<svg xmlns=\"http://www.w3.org/2000/svg\" height=\"24px\"viewBox=\"0 0 24 24\"\n",
              "     width=\"24px\">\n",
              "    <g>\n",
              "        <path d=\"M19 3H5c-1.1 0-2 .9-2 2v14c0 1.1.9 2 2 2h14c1.1 0 2-.9 2-2V5c0-1.1-.9-2-2-2zM9 17H7v-7h2v7zm4 0h-2V7h2v10zm4 0h-2v-4h2v4z\"/>\n",
              "    </g>\n",
              "</svg>\n",
              "  </button>\n",
              "\n",
              "<style>\n",
              "  .colab-df-quickchart {\n",
              "      --bg-color: #E8F0FE;\n",
              "      --fill-color: #1967D2;\n",
              "      --hover-bg-color: #E2EBFA;\n",
              "      --hover-fill-color: #174EA6;\n",
              "      --disabled-fill-color: #AAA;\n",
              "      --disabled-bg-color: #DDD;\n",
              "  }\n",
              "\n",
              "  [theme=dark] .colab-df-quickchart {\n",
              "      --bg-color: #3B4455;\n",
              "      --fill-color: #D2E3FC;\n",
              "      --hover-bg-color: #434B5C;\n",
              "      --hover-fill-color: #FFFFFF;\n",
              "      --disabled-bg-color: #3B4455;\n",
              "      --disabled-fill-color: #666;\n",
              "  }\n",
              "\n",
              "  .colab-df-quickchart {\n",
              "    background-color: var(--bg-color);\n",
              "    border: none;\n",
              "    border-radius: 50%;\n",
              "    cursor: pointer;\n",
              "    display: none;\n",
              "    fill: var(--fill-color);\n",
              "    height: 32px;\n",
              "    padding: 0;\n",
              "    width: 32px;\n",
              "  }\n",
              "\n",
              "  .colab-df-quickchart:hover {\n",
              "    background-color: var(--hover-bg-color);\n",
              "    box-shadow: 0 1px 2px rgba(60, 64, 67, 0.3), 0 1px 3px 1px rgba(60, 64, 67, 0.15);\n",
              "    fill: var(--button-hover-fill-color);\n",
              "  }\n",
              "\n",
              "  .colab-df-quickchart-complete:disabled,\n",
              "  .colab-df-quickchart-complete:disabled:hover {\n",
              "    background-color: var(--disabled-bg-color);\n",
              "    fill: var(--disabled-fill-color);\n",
              "    box-shadow: none;\n",
              "  }\n",
              "\n",
              "  .colab-df-spinner {\n",
              "    border: 2px solid var(--fill-color);\n",
              "    border-color: transparent;\n",
              "    border-bottom-color: var(--fill-color);\n",
              "    animation:\n",
              "      spin 1s steps(1) infinite;\n",
              "  }\n",
              "\n",
              "  @keyframes spin {\n",
              "    0% {\n",
              "      border-color: transparent;\n",
              "      border-bottom-color: var(--fill-color);\n",
              "      border-left-color: var(--fill-color);\n",
              "    }\n",
              "    20% {\n",
              "      border-color: transparent;\n",
              "      border-left-color: var(--fill-color);\n",
              "      border-top-color: var(--fill-color);\n",
              "    }\n",
              "    30% {\n",
              "      border-color: transparent;\n",
              "      border-left-color: var(--fill-color);\n",
              "      border-top-color: var(--fill-color);\n",
              "      border-right-color: var(--fill-color);\n",
              "    }\n",
              "    40% {\n",
              "      border-color: transparent;\n",
              "      border-right-color: var(--fill-color);\n",
              "      border-top-color: var(--fill-color);\n",
              "    }\n",
              "    60% {\n",
              "      border-color: transparent;\n",
              "      border-right-color: var(--fill-color);\n",
              "    }\n",
              "    80% {\n",
              "      border-color: transparent;\n",
              "      border-right-color: var(--fill-color);\n",
              "      border-bottom-color: var(--fill-color);\n",
              "    }\n",
              "    90% {\n",
              "      border-color: transparent;\n",
              "      border-bottom-color: var(--fill-color);\n",
              "    }\n",
              "  }\n",
              "</style>\n",
              "\n",
              "  <script>\n",
              "    async function quickchart(key) {\n",
              "      const quickchartButtonEl =\n",
              "        document.querySelector('#' + key + ' button');\n",
              "      quickchartButtonEl.disabled = true;  // To prevent multiple clicks.\n",
              "      quickchartButtonEl.classList.add('colab-df-spinner');\n",
              "      try {\n",
              "        const charts = await google.colab.kernel.invokeFunction(\n",
              "            'suggestCharts', [key], {});\n",
              "      } catch (error) {\n",
              "        console.error('Error during call to suggestCharts:', error);\n",
              "      }\n",
              "      quickchartButtonEl.classList.remove('colab-df-spinner');\n",
              "      quickchartButtonEl.classList.add('colab-df-quickchart-complete');\n",
              "    }\n",
              "    (() => {\n",
              "      let quickchartButtonEl =\n",
              "        document.querySelector('#df-120a9fee-ac6e-434e-a0ac-152e58e83a25 button');\n",
              "      quickchartButtonEl.style.display =\n",
              "        google.colab.kernel.accessAllowed ? 'block' : 'none';\n",
              "    })();\n",
              "  </script>\n",
              "</div>\n",
              "    </div>\n",
              "  </div>\n"
            ]
          },
          "metadata": {},
          "execution_count": 7
        }
      ]
    },
    {
      "cell_type": "code",
      "source": [
        "#Muestra el boxplot de la base sin tratamiento\n",
        "df_bitcoin.boxplot(['Close'])"
      ],
      "metadata": {
        "colab": {
          "base_uri": "https://localhost:8080/",
          "height": 452
        },
        "id": "8K9jPKLtaatc",
        "outputId": "d41cdd41-e0fd-4129-f86a-5207fee6423b"
      },
      "execution_count": 8,
      "outputs": [
        {
          "output_type": "execute_result",
          "data": {
            "text/plain": [
              "<Axes: >"
            ]
          },
          "metadata": {},
          "execution_count": 8
        },
        {
          "output_type": "display_data",
          "data": {
            "text/plain": [
              "<Figure size 640x480 with 1 Axes>"
            ],
            "image/png": "[encoded data removed]"
          },
          "metadata": {}
        }
      ]
    },
    {
      "cell_type": "code",
      "source": [
        "#@title\n",
        "def limpieza_datos():\n",
        "  global df_bitcoin, df_bitcoin_limpio, media_bitcoin\n",
        "  #Comenzaremos creando una copia del dataframe original\n",
        "  df_bitcoin_limpio = df_bitcoin.copy()\n",
        "\n",
        "  #Ahora trataremos los datetime que funcionan como índices para que no se repitan\n",
        "  seleccion = df_bitcoin.index.isin(df_bitcoin.index.unique())\n",
        "  df_bitcoin_limpio = df_bitcoin[seleccion]\n",
        "\n",
        "  #Procederemos a tratar los elementos que son NA de la columna Close, eliminándolos para que no afecten al dataframe\n",
        "  #Es mejor eliminarlos puesto que en caso de existir algun NA, no tendría sentido para el trading y demás cálculos y si los reemplazamos con\n",
        "  #0 o la media en el momento, alteraríamos la media de nuevo, haciendo que nuestras decisiones no sean con datos correctos.\n",
        "  df_bitcoin_limpio.dropna(subset = ['Close'], inplace = True)\n",
        "\n",
        "  #Queremos limpiar también los datos cuyo Volume es 0, eliminándolos del dataframe\n",
        "  seleccion = df_bitcoin_limpio['Volume'] > 0\n",
        "  df_bitcoin_limpio = df_bitcoin_limpio[seleccion]\n",
        "\n",
        "  #Procederemos a eliminar outliers para quedarnos solo con los valores adecuados\n",
        "  valor = df_bitcoin_limpio['Close']\n",
        "  Q1 = valor.quantile(.25)\n",
        "  Q3 = valor.quantile(.75)\n",
        "  seleccion = ((valor >= Q1) & (valor <= Q3))\n",
        "  df_bitcoin_limpio = df_bitcoin_limpio[seleccion]\n",
        "\n",
        "  #Finalmente con el nuevo dataframe limpio procedemos a calcular la media del mismo\n",
        "  media_bitcoin = df_bitcoin_limpio['Close'].mean().round(2)"
      ],
      "metadata": {
        "id": "wmY--koeDDgt",
        "cellView": "form"
      },
      "execution_count": 9,
      "outputs": []
    },
    {
      "cell_type": "code",
      "source": [
        "#Muestra el Boxplot de la base limpia\n",
        "limpieza_datos()\n",
        "df_bitcoin_limpio.boxplot(['Close'])"
      ],
      "metadata": {
        "colab": {
          "base_uri": "https://localhost:8080/",
          "height": 448
        },
        "id": "NDTes1x0a9Uk",
        "outputId": "85628e79-de74-4d6a-fdb2-f8d58ff368d4"
      },
      "execution_count": 10,
      "outputs": [
        {
          "output_type": "execute_result",
          "data": {
            "text/plain": [
              "<Axes: >"
            ]
          },
          "metadata": {},
          "execution_count": 10
        },
        {
          "output_type": "display_data",
          "data": {
            "text/plain": [
              "<Figure size 640x480 with 1 Axes>"
            ],
            "image/png": "[encoded data removed]"
          },
          "metadata": {}
        }
      ]
    },
    {
      "cell_type": "code",
      "source": [
        "#Muestra el precio promedio de la base limpia\n",
        "print('Precio Promedio Bitcoin: ', media_bitcoin)"
      ],
      "metadata": {
        "colab": {
          "base_uri": "https://localhost:8080/"
        },
        "id": "WEivDEaTdDzh",
        "outputId": "85e1ea04-32d8-4daa-f6c2-cf2a0f5ce294"
      },
      "execution_count": 11,
      "outputs": [
        {
          "output_type": "stream",
          "name": "stdout",
          "text": [
            "Precio Promedio Bitcoin:  29054.31\n"
          ]
        }
      ]
    },
    {
      "cell_type": "markdown",
      "source": [
        "#4. Tomar decisiones"
      ],
      "metadata": {
        "id": "VOAD0K5ZB1yL"
      }
    },
    {
      "cell_type": "code",
      "source": [
        "#@title\n",
        "def tomar_decisiones():\n",
        "  global algoritmo_decision\n",
        "  if ((precio_actual >= media_bitcoin) & (tendencia == 'baja')):\n",
        "    algoritmo_decision = 'Vender'\n",
        "  elif ((precio_actual < media_bitcoin) & (tendencia == 'alta')):\n",
        "    algoritmo_decision = 'Comprar'\n",
        "  else:\n",
        "    algoritmo_decision = 'Esperar'"
      ],
      "metadata": {
        "id": "qZP2EMDNDESc",
        "cellView": "form"
      },
      "execution_count": 12,
      "outputs": []
    },
    {
      "cell_type": "code",
      "source": [
        "#Mostramos la decisión del algoritmo\n",
        "tomar_decisiones()\n",
        "print('Precio Promedio Bitcoin: ', media_bitcoin)\n",
        "print('Precio Actual Bitcoin: ', precio_actual)\n",
        "print('Tendencia: ', tendencia)\n",
        "print('Decisión del algoritmo: ', algoritmo_decision)"
      ],
      "metadata": {
        "id": "l1gI9GYMDEJ9",
        "colab": {
          "base_uri": "https://localhost:8080/"
        },
        "outputId": "264eae6f-508e-4a7b-fece-e85e629787eb"
      },
      "execution_count": 13,
      "outputs": [
        {
          "output_type": "stream",
          "name": "stdout",
          "text": [
            "Precio Promedio Bitcoin:  29054.31\n",
            "Precio Actual Bitcoin:  30351.66\n",
            "Tendencia:  baja\n",
            "Decisión del algoritmo:  Vender\n"
          ]
        }
      ]
    },
    {
      "cell_type": "markdown",
      "source": [
        "#5. Visualización"
      ],
      "metadata": {
        "id": "PvBM2J8AB36M"
      }
    },
    {
      "cell_type": "code",
      "source": [
        "#@title\n",
        "def visualizacion():\n",
        "  global df_bitcoin, media_bitcoin, algoritmo_decision, precio_actual, tendencia\n",
        "  df_bitcoin['Promedio'] = media_bitcoin\n",
        "  plt.rc('figure', figsize = (16,5))\n",
        "  plt.suptitle('Precio del Bitcoin ($)', ha='left', x=0.13, y=0.94, fontweight =\"bold\")\n",
        "  plt.plot(df_bitcoin.index, df_bitcoin['Close'])\n",
        "  plt.plot(df_bitcoin.index, df_bitcoin['Promedio'])\n",
        "  plt.annotate(algoritmo_decision, xy=(0.9, 0.9), xycoords='axes fraction', size=14)\n",
        "  clear_output()\n",
        "  print('Hora de ejecución: ', datetime.datetime.now())\n",
        "  print('Precio Promedio Bitcoin: ', media_bitcoin)\n",
        "  print('Precio Actual Bitcoin: ', precio_actual)\n",
        "  print('Tendencia: ', tendencia)\n",
        "  plt.show()"
      ],
      "metadata": {
        "id": "S8dBQuPD3IZW",
        "cellView": "form"
      },
      "execution_count": 14,
      "outputs": []
    },
    {
      "cell_type": "code",
      "source": [
        "#Mostramos el resultado de la toma de decisiones gráficamente\n",
        "visualizacion()"
      ],
      "metadata": {
        "colab": {
          "base_uri": "https://localhost:8080/",
          "height": 479
        },
        "id": "Wx7d-2j93AMZ",
        "outputId": "183c5829-f03f-42b3-b2f6-80d091cc7c4b"
      },
      "execution_count": 15,
      "outputs": [
        {
          "output_type": "stream",
          "name": "stdout",
          "text": [
            "Hora de ejecución:  2023-10-23 02:44:49.325287\n",
            "Precio Promedio Bitcoin:  29054.31\n",
            "Precio Actual Bitcoin:  30351.66\n",
            "Tendencia:  baja\n"
          ]
        },
        {
          "output_type": "display_data",
          "data": {
            "text/plain": [
              "<Figure size 1600x500 with 1 Axes>"
            ],
            "image/png": "[encoded data removed]"
          },
          "metadata": {}
        }
      ]
    },
    {
      "cell_type": "markdown",
      "source": [
        "#6. Automatización"
      ],
      "metadata": {
        "id": "tuMu2a2nB5jt"
      }
    },
    {
      "cell_type": "code",
      "source": [
        "while(True):\n",
        "  clear_output()\n",
        "  importar_base_bitcoin()\n",
        "  extraer_tendencias()\n",
        "  limpieza_datos()\n",
        "  tomar_decisiones()\n",
        "  visualizacion()\n",
        "  time.sleep(300)"
      ],
      "metadata": {
        "colab": {
          "base_uri": "https://localhost:8080/",
          "height": 479
        },
        "id": "tgze1mx93Ri3",
        "outputId": "c6f05deb-5818-41c6-ca7c-19bbb1829745"
      },
      "execution_count": null,
      "outputs": [
        {
          "output_type": "stream",
          "name": "stdout",
          "text": [
            "Hora de ejecución:  2023-10-23 02:44:50.336438\n",
            "Precio Promedio Bitcoin:  29054.31\n",
            "Precio Actual Bitcoin:  30351.66\n",
            "Tendencia:  baja\n"
          ]
        },
        {
          "output_type": "display_data",
          "data": {
            "text/plain": [
              "<Figure size 1600x500 with 1 Axes>"
            ],
            "image/png": "[encoded data removed]"
          },
          "metadata": {}
        }
      ]
    }
  ]
}